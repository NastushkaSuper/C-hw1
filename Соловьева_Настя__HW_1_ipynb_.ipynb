{
  "nbformat": 4,
  "nbformat_minor": 0,
  "metadata": {
    "kernelspec": {
      "display_name": "Python 3 (ipykernel)",
      "language": "python",
      "name": "python3"
    },
    "language_info": {
      "codemirror_mode": {
        "name": "ipython",
        "version": 3
      },
      "file_extension": ".py",
      "mimetype": "text/x-python",
      "name": "python",
      "nbconvert_exporter": "python",
      "pygments_lexer": "ipython3",
      "version": "3.8.6"
    },
    "colab": {
      "name": "Соловьева Настя \"HW-1.ipynb\"",
      "provenance": [],
      "collapsed_sections": []
    }
  },
  "cells": [
    {
      "cell_type": "markdown",
      "metadata": {
        "id": "1BZBCk5mmB-0"
      },
      "source": [
        "# Домашнее задание №1 (25 баллов)\n",
        "\n",
        "## дедлайн 19 сентября 23:59\n",
        "\n",
        "\n",
        "\n",
        "Цель:\n",
        "\n",
        "Отработать навыки работы с основными типами данных в Python."
      ]
    },
    {
      "cell_type": "markdown",
      "metadata": {
        "id": "LZn14yIamB-4"
      },
      "source": [
        "**NB!** Задания необходимо выполнять таким образом, что переменную/-ые можно было заменить на схожее слово/число/текст/список/и т.д., при этом задание все равно выполнялось бы верно."
      ]
    },
    {
      "cell_type": "markdown",
      "metadata": {
        "id": "rXWlFw-wmB-5"
      },
      "source": [
        "_Оценку 9 или 10 можно получить, если выполнить домашнее задание до 16 сентября 18:10 (бонусное задание в т.ч.)_"
      ]
    },
    {
      "cell_type": "markdown",
      "metadata": {
        "id": "Zz7zK33DmB-6"
      },
      "source": [
        "### Часть 1. Переменные, арифметические операции (7 баллов)"
      ]
    },
    {
      "cell_type": "markdown",
      "metadata": {
        "id": "-p1ThRvGmB-7"
      },
      "source": [
        "1. (1 балл) Создайте две переменные $a$ и $b$ и присвойте им значение $91$ и $-12$, соответственно.\n",
        "Какой тип имеют эти переменные?"
      ]
    },
    {
      "cell_type": "code",
      "metadata": {
        "id": "pEXH413VmB-7"
      },
      "source": [
        "a=91\n",
        "b=-12\n",
        "#тип int"
      ],
      "execution_count": null,
      "outputs": []
    },
    {
      "cell_type": "markdown",
      "metadata": {
        "id": "7uvknJ4xmB-9"
      },
      "source": [
        "2. (1 балл) Посчитайте:\n",
        "\n",
        "    * разность a - b\n",
        "\n",
        "    * сумму a + b"
      ]
    },
    {
      "cell_type": "code",
      "metadata": {
        "id": "opg4FgsCmB--",
        "colab": {
          "base_uri": "https://localhost:8080/"
        },
        "outputId": "dce2fd30-1b9e-475b-dd91-2da2e14a8060"
      },
      "source": [
        "\n",
        "a=91\n",
        "b=-12\n",
        "x=a-b\n",
        "print(x)\n",
        "\n",
        "y=a+b\n",
        "print(y)"
      ],
      "execution_count": null,
      "outputs": [
        {
          "output_type": "stream",
          "name": "stdout",
          "text": [
            "103\n",
            "79\n"
          ]
        }
      ]
    },
    {
      "cell_type": "markdown",
      "metadata": {
        "id": "FLU2CwhwmB-_"
      },
      "source": [
        "3. (1 балл) Вводится целое неотрицательное число $N$. Выведите $2$ в степени $N$."
      ]
    },
    {
      "cell_type": "code",
      "metadata": {
        "id": "8vymxnC6mB_B",
        "colab": {
          "base_uri": "https://localhost:8080/"
        },
        "outputId": "399bcbc1-f636-40d9-b90f-f816c62bb051"
      },
      "source": [
        "N=10\n",
        "print(2**N)\n"
      ],
      "execution_count": 1,
      "outputs": [
        {
          "output_type": "stream",
          "name": "stdout",
          "text": [
            "1024\n"
          ]
        }
      ]
    },
    {
      "cell_type": "markdown",
      "metadata": {
        "id": "lDcZPjHHmB_B"
      },
      "source": [
        "4. (1 балл) Пётр Иванович хочет испечь большую печеньку. У него есть форма для выпечки диаметром $45$ сантиметров и высотой $5$ сантиметров. Посчитайте, какого объема будет печенька Петра Ивановича. Результат положите в переменную `area_of_circle`"
      ]
    },
    {
      "cell_type": "code",
      "metadata": {
        "id": "qv8YxoZomB_B",
        "colab": {
          "base_uri": "https://localhost:8080/"
        },
        "outputId": "67a83574-9b7f-4487-c96a-a0210eaea75b"
      },
      "source": [
        "r=22.5\n",
        "h=5\n",
        "area_of_circle = 3.14*h*(r**2)\n",
        "print(area_of_circle)"
      ],
      "execution_count": null,
      "outputs": [
        {
          "output_type": "stream",
          "name": "stdout",
          "text": [
            "7948.125000000001\n"
          ]
        }
      ]
    },
    {
      "cell_type": "code",
      "metadata": {
        "id": "7DYKzvV5hD1t"
      },
      "source": [
        ""
      ],
      "execution_count": null,
      "outputs": []
    },
    {
      "cell_type": "markdown",
      "metadata": {
        "id": "Kd1PBPY3mB_C"
      },
      "source": [
        "5. (1 балл) Белочки делят между собой орешки. Если орешки поровну не делятся, остаток остается в дупле. Напишите программу, которая принимает количество белочек и орешков, а на выходе дает число орешков, которое получит каждая белочка."
      ]
    },
    {
      "cell_type": "code",
      "metadata": {
        "id": "r6WzKLwHmB_C",
        "colab": {
          "base_uri": "https://localhost:8080/"
        },
        "outputId": "48a7e877-769c-42e9-8525-1b2b86155337"
      },
      "source": [
        "a=int(input(\"белочки\"))\n",
        "b=int(input(\"орешки\"))\n",
        "print(b // a)\n"
      ],
      "execution_count": null,
      "outputs": [
        {
          "output_type": "stream",
          "name": "stdout",
          "text": [
            "белочки10\n",
            "орешки103\n",
            "10\n"
          ]
        }
      ]
    },
    {
      "cell_type": "markdown",
      "metadata": {
        "id": "Y6jGfqvHmB_D"
      },
      "source": [
        "6. (1 балл) Напишите программу, которая считывает два целых числа $a$ и $b$ и выводит наибольшее значение из них (без использования условий)."
      ]
    },
    {
      "cell_type": "code",
      "metadata": {
        "id": "b23VAe67mB_D",
        "colab": {
          "base_uri": "https://localhost:8080/"
        },
        "outputId": "b25fdab3-1807-4ef9-8fd7-a7420caf19f6"
      },
      "source": [
        "a = int(input())\n",
        "b = int(input())\n",
        "print((a//b*a+b//a*b)//(a//b+b//a))\n",
        "\n",
        "\n"
      ],
      "execution_count": null,
      "outputs": [
        {
          "output_type": "stream",
          "name": "stdout",
          "text": [
            "10\n",
            "7\n",
            "10\n"
          ]
        }
      ]
    },
    {
      "cell_type": "markdown",
      "metadata": {
        "id": "zWtzW4jDmB_D"
      },
      "source": [
        "7. (1 балла) Получите с помощью функции `input()` строку с числом и приведите число в тип `float`. Полученное число присвойте переменной `float_number`"
      ]
    },
    {
      "cell_type": "code",
      "metadata": {
        "id": "eWjtF4OtmB_D",
        "colab": {
          "base_uri": "https://localhost:8080/"
        },
        "outputId": "1fc906c7-300c-4ee8-a252-a0c025aa9d37"
      },
      "source": [
        "stroka = input()\n",
        "float_number = float(stroka)"
      ],
      "execution_count": 2,
      "outputs": [
        {
          "name": "stdout",
          "output_type": "stream",
          "text": [
            "9\n"
          ]
        }
      ]
    },
    {
      "cell_type": "markdown",
      "metadata": {
        "id": "5fQg1mzemB_E"
      },
      "source": [
        "### Часть 2. Строки (5 баллов)"
      ]
    },
    {
      "cell_type": "markdown",
      "metadata": {
        "id": "S8061OxKmB_E"
      },
      "source": [
        "8. (1 балл) Используйте на переменную со значением hello методы строк:\n",
        "\n",
        "`.capitalize()`\n",
        "\n",
        "`.lower()`\n",
        "\n",
        "`.upper()`\n",
        "\n",
        "Опишите что они делают в комментарии (пишите ответ как комментарий к пустой строке)"
      ]
    },
    {
      "cell_type": "code",
      "metadata": {
        "id": "m1gi2raAmB_E",
        "colab": {
          "base_uri": "https://localhost:8080/"
        },
        "outputId": "067193d7-d5e2-4103-acb3-c96e1b938fac"
      },
      "source": [
        "x=\"hello\"\n",
        "print (x.capitalize())\n",
        "print (x.lower())\n",
        "print (x.upper())\n",
        "#\"Capitalize\" - строка пишется со строчной буквы, \"lower\" - все символы в строке нижнего регистра, \"upper\" - все символы в строке верхнего регистра."
      ],
      "execution_count": null,
      "outputs": [
        {
          "output_type": "stream",
          "name": "stdout",
          "text": [
            "Hello\n",
            "hello\n",
            "HELLO\n"
          ]
        }
      ]
    },
    {
      "cell_type": "markdown",
      "metadata": {
        "id": "BdWRgXKpmB_F"
      },
      "source": [
        "9. (1 балл) Создайте две переменные типа `str` (строка) со значениями hello и world (например s1 и s2). Сложите их и напечатайте результат."
      ]
    },
    {
      "cell_type": "code",
      "metadata": {
        "id": "YJhjtMwBmB_F",
        "colab": {
          "base_uri": "https://localhost:8080/"
        },
        "outputId": "1943efeb-e72e-4b7a-850b-4e68a9db489a"
      },
      "source": [
        "s1 = \"hello\"\n",
        "s2 = \"world\"\n",
        "print (s1 +\" \"+ s2)"
      ],
      "execution_count": null,
      "outputs": [
        {
          "output_type": "stream",
          "name": "stdout",
          "text": [
            "hello world\n"
          ]
        }
      ]
    },
    {
      "cell_type": "markdown",
      "metadata": {
        "id": "SA3QW6AGmB_F"
      },
      "source": [
        "10. (1 балл)\n",
        "\n",
        "    - Воспользуйтесь функцией `len()` для того чтобы посчитать длину (количество **символов**) детской песни Солнечный круг \n",
        "    - Посчитайте длину (количество символов) в песне Let it be\n",
        "    - Какая из песен длиннее и на сколько **символов**?\n",
        "\n",
        "_Hint: тексты обеих песен приведены ниже._\n",
        "\n",
        "_Hint 2: `len()` это не метод, а функция_"
      ]
    },
    {
      "cell_type": "code",
      "metadata": {
        "id": "5-uezdnhmB_F",
        "colab": {
          "base_uri": "https://localhost:8080/"
        },
        "outputId": "ceea662d-ad43-40ff-9bf6-a133cb86e9f9"
      },
      "source": [
        "sun_circle  = '''\n",
        "Солнечный круг, небо вокруг\n",
        "Это рисунок мальчишки\n",
        "Нарисовал он на листке\n",
        "И подписал в уголке\n",
        "Пусть всегда будет солнце\n",
        "Пусть всегда будет небо\n",
        "Пусть всегда будет мама\n",
        "Пусть всегда буду я\n",
        "Пусть всегда будет солнце\n",
        "Пусть всегда будет небо\n",
        "Пусть всегда будет мама\n",
        "Пусть всегда буду я\n",
        "Милый мой друг, добрый мой друг\n",
        "Людям так хочется мира\n",
        "И в тридцать пять сердце опять\n",
        "Не устаёт повторять\n",
        "Пусть всегда будет солнце\n",
        "Пусть всегда будет небо\n",
        "Пусть всегда будет мама\n",
        "Пусть всегда буду я\n",
        "Пусть всегда будет солнце\n",
        "Пусть всегда будет небо\n",
        "Пусть всегда будет мама\n",
        "Пусть всегда буду я\n",
        "Тише солдат, слышишь солдат\n",
        "Люди пугаются взрывов\n",
        "Тысячи глаз в небо глядят\n",
        "Губы упрямо твердят\n",
        "Пусть всегда будет солнце\n",
        "Пусть всегда будет небо\n",
        "Пусть всегда будет мама\n",
        "Пусть всегда буду я\n",
        "Пусть всегда будет солнце\n",
        "Пусть всегда будет небо\n",
        "Пусть всегда будет мама\n",
        "Пусть всегда буду я\n",
        "Против беды, против войны\n",
        "Станем за наших мальчишек\n",
        "Солнце навек, счастье навек\n",
        "Так повелел человек\n",
        "Пусть всегда будет солнце\n",
        "Пусть всегда будет небо\n",
        "Пусть всегда будет мама\n",
        "Пусть всегда буду я\n",
        "Пусть всегда будет солнце\n",
        "Пусть всегда будет небо\n",
        "Пусть всегда будет мама\n",
        "Пусть всегда буду я\n",
        "'''\n",
        "len (sun_circle)\n",
        "\n",
        "\n",
        "\n",
        "\n"
      ],
      "execution_count": null,
      "outputs": [
        {
          "output_type": "execute_result",
          "data": {
            "text/plain": [
              "1148"
            ]
          },
          "metadata": {},
          "execution_count": 29
        }
      ]
    },
    {
      "cell_type": "code",
      "metadata": {
        "id": "efgy27aOmB_G",
        "colab": {
          "base_uri": "https://localhost:8080/"
        },
        "outputId": "c7acb31a-4ba7-498c-f4c1-081ec4487c4e"
      },
      "source": [
        "let_it_be = '''\n",
        "When I find myself in times of trouble, Mother Mary comes to me\n",
        "Speaking words of wisdom, let it be\n",
        "And in my hour of darkness she is standing right in front of me\n",
        "Speaking words of wisdom, let it be\n",
        "Let it be, let it be, let it be, let it be\n",
        "Whisper words of wisdom, let it be\n",
        "And when the broken-hearted people living in the world agree\n",
        "There will be an answer, let it be\n",
        "For though they may be parted, there is still a chance that they will see\n",
        "There will be an answer, let it be\n",
        "Let it be, let it be, let it be, let it be\n",
        "Yeah, there will be an answer, let it be\n",
        "Let it be, let it be, let it be, let it be\n",
        "Whisper words of wisdom, let it be\n",
        "Let it be, let it be, let it be, yeah, let it be\n",
        "Whisper words of wisdom, let it be\n",
        "And when the night is cloudy there is still a light that shines on me\n",
        "Shine until tomorrow, let it be\n",
        "I wake up to the sound of music, Mother Mary comes to me\n",
        "Speaking words of wisdom, let it be\n",
        "Let it be, let it be, let it be, yeah, let it be\n",
        "There will be an answer, let it be\n",
        "Let it be, let it be, let it be, yeah, let it be\n",
        "There will be an answer, let it be\n",
        "Let it be, let it be, let it be, yeah, let it be\n",
        "Whisper words of wisdom, let it be\n",
        "'''\n",
        "len (let_it_be)\n"
      ],
      "execution_count": null,
      "outputs": [
        {
          "output_type": "execute_result",
          "data": {
            "text/plain": [
              "1177"
            ]
          },
          "metadata": {},
          "execution_count": 30
        }
      ]
    },
    {
      "cell_type": "markdown",
      "metadata": {
        "id": "TMfNQBnimB_H"
      },
      "source": [
        "11. (2 балла)\n",
        "\n",
        "    - Чего больше: слов \"Пусть всегда\" в детской песне или слов \"Let it be\" в песне ливерпульской четверки?\n",
        "\n",
        "*Hint: Воспользуйтесь методом `.count()`*\n",
        "\n",
        "*Hint 2: Слова \"Let it be\" встречаются в песне как с заглавной, так и со строчной буквы, учтите это при подсчете*"
      ]
    },
    {
      "cell_type": "code",
      "metadata": {
        "id": "M20HoMm_mB_H",
        "colab": {
          "base_uri": "https://localhost:8080/"
        },
        "outputId": "f483d2c3-2f5f-439b-cf01-a67d4207a012"
      },
      "source": [
        "sun_circle = '''\n",
        "Солнечный круг, небо вокруг\n",
        "Это рисунок мальчишки\n",
        "Нарисовал он на листке\n",
        "И подписал в уголке\n",
        "Пусть всегда будет солнце\n",
        "Пусть всегда будет небо\n",
        "Пусть всегда будет мама\n",
        "Пусть всегда буду я\n",
        "Пусть всегда будет солнце\n",
        "Пусть всегда будет небо\n",
        "Пусть всегда будет мама\n",
        "Пусть всегда буду я\n",
        "Милый мой друг, добрый мой друг\n",
        "Людям так хочется мира\n",
        "И в тридцать пять сердце опять\n",
        "Не устаёт повторять\n",
        "Пусть всегда будет солнце\n",
        "Пусть всегда будет небо\n",
        "Пусть всегда будет мама\n",
        "Пусть всегда буду я\n",
        "Пусть всегда будет солнце\n",
        "Пусть всегда будет небо\n",
        "Пусть всегда будет мама\n",
        "Пусть всегда буду я\n",
        "Тише солдат, слышишь солдат\n",
        "Люди пугаются взрывов\n",
        "Тысячи глаз в небо глядят\n",
        "Губы упрямо твердят\n",
        "Пусть всегда будет солнце\n",
        "Пусть всегда будет небо\n",
        "Пусть всегда будет мама\n",
        "Пусть всегда буду я\n",
        "Пусть всегда будет солнце\n",
        "Пусть всегда будет небо\n",
        "Пусть всегда будет мама\n",
        "Пусть всегда буду я\n",
        "Против беды, против войны\n",
        "Станем за наших мальчишек\n",
        "Солнце навек, счастье навек\n",
        "Так повелел человек\n",
        "Пусть всегда будет солнце\n",
        "Пусть всегда будет небо\n",
        "Пусть всегда будет мама\n",
        "Пусть всегда буду я\n",
        "Пусть всегда будет солнце\n",
        "Пусть всегда будет небо\n",
        "Пусть всегда будет мама\n",
        "Пусть всегда буду я\n",
        "'''\n",
        "let_it_be = '''\n",
        "When I find myself in times of trouble, Mother Mary comes to me\n",
        "Speaking words of wisdom, let it be\n",
        "And in my hour of darkness she is standing right in front of me\n",
        "Speaking words of wisdom, let it be\n",
        "Let it be, let it be, let it be, let it be\n",
        "Whisper words of wisdom, let it be\n",
        "And when the broken-hearted people living in the world agree\n",
        "There will be an answer, let it be\n",
        "For though they may be parted, there is still a chance that they will see\n",
        "There will be an answer, let it be\n",
        "Let it be, let it be, let it be, let it be\n",
        "Yeah, there will be an answer, let it be\n",
        "Let it be, let it be, let it be, let it be\n",
        "Whisper words of wisdom, let it be\n",
        "Let it be, let it be, let it be, yeah, let it be\n",
        "Whisper words of wisdom, let it be\n",
        "And when the night is cloudy there is still a light that shines on me\n",
        "Shine until tomorrow, let it be\n",
        "I wake up to the sound of music, Mother Mary comes to me\n",
        "Speaking words of wisdom, let it be\n",
        "Let it be, let it be, let it be, yeah, let it be\n",
        "There will be an answer, let it be\n",
        "Let it be, let it be, let it be, yeah, let it be\n",
        "There will be an answer, let it be\n",
        "Let it be, let it be, let it be, yeah, let it be\n",
        "Whisper words of wisdom, let it be\n",
        "'''\n",
        "d1 = sun_circle.count(\"Пусть всегда\")\n",
        "d2 = let_it_be.count(\"Let it be\") + let_it_be.count(\"let it be\")\n",
        "\n",
        "if d1 == d2:\n",
        "  print(\"Искомых слов в песнях поровну\")\n",
        "if d1 > d2:\n",
        "  print(\"Слов \"\"Пусть всегда\"\" больше\")\n",
        "else:\n",
        "  print(\"Слов \"\"Let it be\"\" больше\")"
      ],
      "execution_count": 7,
      "outputs": [
        {
          "output_type": "stream",
          "name": "stdout",
          "text": [
            "Слов Let it be больше\n"
          ]
        }
      ]
    },
    {
      "cell_type": "markdown",
      "metadata": {
        "id": "_RpGCxj3mB_H"
      },
      "source": [
        "### Часть 3. Условия (5 баллов)"
      ]
    },
    {
      "cell_type": "markdown",
      "metadata": {
        "id": "gwBLQuKJmB_H"
      },
      "source": [
        "12. (1 балл) Дано целое число $x$. Проверить, является ли число положительным."
      ]
    },
    {
      "cell_type": "code",
      "metadata": {
        "id": "4rzLvWy_mB_H",
        "colab": {
          "base_uri": "https://localhost:8080/"
        },
        "outputId": "bf93caa4-6e6f-4f34-865e-e2d90d792355"
      },
      "source": [
        "x = 10\n",
        "if x > 0:\n",
        " print(\"nice\")\n",
        "if x <= 0:\n",
        "  print(\"not nice\")\n",
        "        "
      ],
      "execution_count": null,
      "outputs": [
        {
          "output_type": "stream",
          "name": "stdout",
          "text": [
            "nice\n"
          ]
        }
      ]
    },
    {
      "cell_type": "markdown",
      "metadata": {
        "id": "uFWvoRNEmB_I"
      },
      "source": [
        "13. (1 балл) Дано число $x$  типа `float` (с плавающей запятой). Проверить, является ли это число целым.\n",
        "\n",
        "_Hint: можно загуглить 'преобразование типов, python'_"
      ]
    },
    {
      "cell_type": "code",
      "metadata": {
        "id": "g2IM_prJmB_I",
        "colab": {
          "base_uri": "https://localhost:8080/"
        },
        "outputId": "e87d0a0a-d5c5-489c-a4e2-cdd3dc50329e"
      },
      "source": [
        "x = float(input()) \n",
        "if x % 1 == 0:\n",
        "  print(\"да\") \n",
        "else:\n",
        "  print(\"нет\")\n",
        "\n"
      ],
      "execution_count": 17,
      "outputs": [
        {
          "output_type": "stream",
          "name": "stdout",
          "text": [
            "4.1\n",
            "нет\n"
          ]
        }
      ]
    },
    {
      "cell_type": "markdown",
      "metadata": {
        "id": "vcZ6JpcVmB_I"
      },
      "source": [
        "14. (1 балл) Напишите программу, которая считывает два целых числа $a$ и $b$ и выводит наибольшее значение из них (c использованием условий)."
      ]
    },
    {
      "cell_type": "code",
      "metadata": {
        "id": "q048UQ-JmB_I",
        "colab": {
          "base_uri": "https://localhost:8080/"
        },
        "outputId": "62db6d18-cde5-48b8-a7af-739d41cd1247"
      },
      "source": [
        "a = int(input())\n",
        "b = int(input())\n",
        "if a > b:\n",
        "  print (a)\n",
        "if a < b:\n",
        "  print (b) "
      ],
      "execution_count": null,
      "outputs": [
        {
          "output_type": "stream",
          "name": "stdout",
          "text": [
            "10\n",
            "8\n",
            "10\n"
          ]
        }
      ]
    },
    {
      "cell_type": "markdown",
      "metadata": {
        "id": "K8VW6Bs0mB_I"
      },
      "source": [
        "15. (1 балл) Вася уехал учиться по обмену на один семестр в Италию. Единственный магазин в городе открыт с $6$ до $8$ утра и с $16$ до $17$ вечера (включительно). Вася не мог попасть в магазин уже несколько дней и страдает от голода. Он может прийти в магазин в $X$ часов. Если магазин открыт в $X$ часов, то выведите `True`, а если закрыт - выведите `False`."
      ]
    },
    {
      "cell_type": "code",
      "metadata": {
        "id": "Y48nxNQ0mB_I",
        "colab": {
          "base_uri": "https://localhost:8080/"
        },
        "outputId": "e18d7f31-afb9-463a-a1a3-6da91f47dea7"
      },
      "source": [
        "hour = int(input())\n",
        "if ((hour >= 6 and hour <= 8) or (hour >= 16 and hour <= 17)):\n",
        "  print(True)\n",
        "else:\n",
        "  print(False)"
      ],
      "execution_count": 18,
      "outputs": [
        {
          "output_type": "stream",
          "name": "stdout",
          "text": [
            "3\n",
            "False\n"
          ]
        }
      ]
    },
    {
      "cell_type": "markdown",
      "metadata": {
        "id": "-InnK0GLmB_J"
      },
      "source": [
        "16. (1 балл) Помогите Даше определить, является ли год с данным номером високосным. Если год является високосным, то выведите `YES`, иначе выведите `NO`. Напомним, что в соответствии с григорианским календарем, год является високосным, если его номер кратен 4, но не кратен 100, а также если он кратен 400."
      ]
    },
    {
      "cell_type": "code",
      "metadata": {
        "id": "SzzJTS-EmB_J",
        "colab": {
          "base_uri": "https://localhost:8080/"
        },
        "outputId": "48a0aaac-49c5-4dc7-e284-d876a227aeca"
      },
      "source": [
        "year = int(input())\n",
        "if ((year % 4 == 0 and year % 100 != 0) or (year % 400 == 0)):\n",
        "\tprint(\"YES\")\n",
        "else:\n",
        "\tprint(\"NO\")\n"
      ],
      "execution_count": 19,
      "outputs": [
        {
          "output_type": "stream",
          "name": "stdout",
          "text": [
            "1987\n",
            "NO\n"
          ]
        }
      ]
    },
    {
      "cell_type": "markdown",
      "metadata": {
        "id": "f4mtffw3mB_J"
      },
      "source": [
        "### Часть 4. Циклы (6 баллов)"
      ]
    },
    {
      "cell_type": "markdown",
      "metadata": {
        "id": "pko9TzIXmB_J"
      },
      "source": [
        "17. (1 балл) Напишите бесконечный цикл (любой)"
      ]
    },
    {
      "cell_type": "code",
      "metadata": {
        "id": "gLKGsTa8mB_J"
      },
      "source": [
        ""
      ],
      "execution_count": null,
      "outputs": []
    },
    {
      "cell_type": "markdown",
      "metadata": {
        "id": "-h3ust4dmB_J"
      },
      "source": [
        "18. (1 балл) Вывести числа от 5 до 20"
      ]
    },
    {
      "cell_type": "code",
      "metadata": {
        "id": "KGbI7mlkmB_J"
      },
      "source": [
        "# your code here"
      ],
      "execution_count": null,
      "outputs": []
    },
    {
      "cell_type": "markdown",
      "metadata": {
        "id": "1qX2tNEdmB_J"
      },
      "source": [
        "19. (1 балл) Вывести все числа от 5 до 20 , кратные 3-м."
      ]
    },
    {
      "cell_type": "code",
      "metadata": {
        "id": "qtN2ECZpmB_K"
      },
      "source": [
        "# your code here"
      ],
      "execution_count": null,
      "outputs": []
    },
    {
      "cell_type": "markdown",
      "metadata": {
        "id": "Pfs3ZBuzmB_K"
      },
      "source": [
        "20. (1 балл) Найти сумму натуральных чисел от 0 до n включительно"
      ]
    },
    {
      "cell_type": "code",
      "metadata": {
        "id": "F933zbG6mB_K"
      },
      "source": [
        "n = 11\n",
        "\n",
        "# your code here"
      ],
      "execution_count": null,
      "outputs": []
    },
    {
      "cell_type": "markdown",
      "metadata": {
        "id": "Tejb6jdumB_K"
      },
      "source": [
        "21. (1 балл) Вводится последовательность цифр. Например `\"126543168714\"`. Найти самую большую цифру, сохранить в переменную `largest_number`, вывести ее значение на экран."
      ]
    },
    {
      "cell_type": "code",
      "metadata": {
        "id": "98j-rp2GmB_K"
      },
      "source": [
        "# your code here"
      ],
      "execution_count": null,
      "outputs": []
    },
    {
      "cell_type": "markdown",
      "metadata": {
        "id": "SfqQonqrmB_K"
      },
      "source": [
        "22. (1 балл) Пользователем вводится строка. Проверить, является ли строка палиндромом без использования срезов и списков (мы их еще не проходили). Записать ответ в булевом типе данных в переменную `is_palindrom`, вывести ее значение на экран."
      ]
    },
    {
      "cell_type": "code",
      "metadata": {
        "id": "kDbNY-bWmB_K"
      },
      "source": [
        "n = 5\n",
        "\n",
        "# your code here"
      ],
      "execution_count": null,
      "outputs": []
    },
    {
      "cell_type": "markdown",
      "metadata": {
        "id": "ykzOQoYamB_K"
      },
      "source": [
        "### Бонусное задание (2 балла):"
      ]
    },
    {
      "cell_type": "markdown",
      "metadata": {
        "id": "Ao9mr74YmB_L"
      },
      "source": [
        "23. (2 балла) \n",
        "\n",
        "В турецком языке все гласные делятся на:\n",
        "\n",
        "негубные:\n",
        "`non_labials = \"aıei\"`\n",
        "\n",
        "губные:\n",
        "`labials = \"ouöü\"`\n",
        "\n",
        "Суть закона гармонии гласных состоит в следующем: все гласные в слове должны быть из одного класса.\n",
        "\n",
        "Вводится слово. Проверьте, подчиняется ли данное слово закону гармонии гласных в турецком языке. Ответ (`True` или `False`) сохранить в переменную rule и вывести ее на экран.\n",
        "\n",
        "Примеры:\n",
        "\n",
        "yaşlıdı (True)\n",
        "\n",
        "yaşlıdü (False)\n",
        "\n",
        "üzgündü (True)\n",
        "\n",
        "üzgündi (False)"
      ]
    },
    {
      "cell_type": "code",
      "metadata": {
        "id": "uD52bBHAmB_L"
      },
      "source": [
        "# your code here"
      ],
      "execution_count": null,
      "outputs": []
    },
    {
      "cell_type": "markdown",
      "metadata": {
        "id": "Z1BkJELmmB_L"
      },
      "source": [
        "#### Напишите ниже вашу обратную связь по домашнему заданию в комментарии. \n",
        "\n",
        "#### Какие задания показались вам самыми сложными / простыми? Что понравилось, а что нет?"
      ]
    },
    {
      "cell_type": "code",
      "metadata": {
        "id": "PJD14Yp_mB_L"
      },
      "source": [
        ""
      ],
      "execution_count": null,
      "outputs": []
    }
  ]
}